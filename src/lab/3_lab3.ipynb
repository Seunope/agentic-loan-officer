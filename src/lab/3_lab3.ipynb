{
 "cells": [
  {
   "cell_type": "markdown",
   "metadata": {},
   "source": [
    "## Week 2 Day 3\n",
    "\n",
    "Now we get to more detail:\n",
    "\n",
    "1. Different models\n",
    "\n",
    "2. Structured Outputs\n",
    "\n",
    "3. Guardrails"
   ]
  },
  {
   "cell_type": "code",
   "execution_count": 1,
   "metadata": {},
   "outputs": [],
   "source": [
    "from dotenv import load_dotenv\n",
    "from openai import AsyncOpenAI\n",
    "from agents import Agent, Runner, trace, function_tool, OpenAIChatCompletionsModel, input_guardrail, GuardrailFunctionOutput\n",
    "from typing import Dict\n",
    "import sendgrid\n",
    "import os\n",
    "from sendgrid.helpers.mail import Mail, Email, To, Content\n",
    "from pydantic import BaseModel"
   ]
  },
  {
   "cell_type": "code",
   "execution_count": 2,
   "metadata": {},
   "outputs": [
    {
     "data": {
      "text/plain": [
       "True"
      ]
     },
     "execution_count": 2,
     "metadata": {},
     "output_type": "execute_result"
    }
   ],
   "source": [
    "load_dotenv(override=True)"
   ]
  },
  {
   "cell_type": "code",
   "execution_count": 4,
   "metadata": {},
   "outputs": [
    {
     "name": "stdout",
     "output_type": "stream",
     "text": [
      "OpenAI API Key exists and begins sk-proj-\n",
      "Google API Key exists and begins AI\n",
      "Groq API Key exists and begins gsk_\n"
     ]
    }
   ],
   "source": [
    "openai_api_key = os.getenv('OPENAI_API_KEY')\n",
    "google_api_key = os.getenv('GOOGLE_API_KEY')\n",
    "groq_api_key = os.getenv('GROQ_API_KEY')\n",
    "\n",
    "if openai_api_key:\n",
    "    print(f\"OpenAI API Key exists and begins {openai_api_key[:8]}\")\n",
    "else:\n",
    "    print(\"OpenAI API Key not set\")\n",
    "\n",
    "if google_api_key:\n",
    "    print(f\"Google API Key exists and begins {google_api_key[:2]}\")\n",
    "else:\n",
    "    print(\"Google API Key not set (and this is optional)\")\n",
    "\n",
    "\n",
    "if groq_api_key:\n",
    "    print(f\"Groq API Key exists and begins {groq_api_key[:4]}\")\n",
    "else:\n",
    "    print(\"Groq API Key not set (and this is optional)\")"
   ]
  },
  {
   "cell_type": "code",
   "execution_count": 12,
   "metadata": {},
   "outputs": [],
   "source": [
    "# Agent 1 is the coordinator and interact with customer, Agent 2 is a tool can compute the repayment probability score and recommendations, \n",
    "# Agent 3 give more detail analysis of result from agent 2 \n",
    "# Agent 4 is send email to customer with loan offer\n",
    "# \n",
    "# \n",
    "#  Agent1: Manage conversation with customer and look for key words to determine if the customer is interested in a loan. \n",
    "# If customer is interested send input data structure customer age, marital status, location(eg Lagos, abuja, oyo,etc), amount, and tenure. etc.\n",
    "#  Validate if use has enter all these values if yes call agent 2:\n",
    "#  Agent  3 handoff to agent 1, it ask user to confirm loan offer and if yes handoff to agent 4\n",
    "\n",
    "#Agent 2: Uses my finetune OpenAi model to compute the repayment probability score and recommendations\n",
    "\n",
    "#Agent 3: Elaborate on the recommendations and ask for the final go ahead for the loan handoff to agent 1\n",
    "\n",
    "#Agent 4: Send the final loan offer to the customer buy using tools to send email"
   ]
  },
  {
   "cell_type": "code",
   "execution_count": 20,
   "metadata": {},
   "outputs": [
    {
     "name": "stderr",
     "output_type": "stream",
     "text": [
      "/var/folders/5t/v0zfcvkd3zdckpwz0d5vfk200000gn/T/ipykernel_34133/227214513.py:51: UserWarning: You have not specified a value for the `type` parameter. Defaulting to the 'tuples' format for chatbot messages, but this is deprecated and will be removed in a future version of Gradio. Please set type='messages' instead, which uses openai-style dictionaries with 'role' and 'content' keys.\n",
      "  chatbot = gr.Chatbot()\n"
     ]
    },
    {
     "name": "stdout",
     "output_type": "stream",
     "text": [
      "* Running on local URL:  http://127.0.0.1:7860\n",
      "* To create a public link, set `share=True` in `launch()`.\n"
     ]
    },
    {
     "data": {
      "text/html": [
       "<div><iframe src=\"http://127.0.0.1:7860/\" width=\"100%\" height=\"500\" allow=\"autoplay; camera; microphone; clipboard-read; clipboard-write;\" frameborder=\"0\" allowfullscreen></iframe></div>"
      ],
      "text/plain": [
       "<IPython.core.display.HTML object>"
      ]
     },
     "metadata": {},
     "output_type": "display_data"
    },
    {
     "name": "stderr",
     "output_type": "stream",
     "text": [
      "Traceback (most recent call last):\n",
      "  File \"/Users/mac/Documents/Dev/Python/agentic-loan-officer/.venv/lib/python3.12/site-packages/gradio/queueing.py\", line 625, in process_events\n",
      "    response = await route_utils.call_process_api(\n",
      "               ^^^^^^^^^^^^^^^^^^^^^^^^^^^^^^^^^^^\n",
      "  File \"/Users/mac/Documents/Dev/Python/agentic-loan-officer/.venv/lib/python3.12/site-packages/gradio/route_utils.py\", line 322, in call_process_api\n",
      "    output = await app.get_blocks().process_api(\n",
      "             ^^^^^^^^^^^^^^^^^^^^^^^^^^^^^^^^^^^\n",
      "  File \"/Users/mac/Documents/Dev/Python/agentic-loan-officer/.venv/lib/python3.12/site-packages/gradio/blocks.py\", line 2146, in process_api\n",
      "    result = await self.call_function(\n",
      "             ^^^^^^^^^^^^^^^^^^^^^^^^^\n",
      "  File \"/Users/mac/Documents/Dev/Python/agentic-loan-officer/.venv/lib/python3.12/site-packages/gradio/blocks.py\", line 1664, in call_function\n",
      "    prediction = await anyio.to_thread.run_sync(  # type: ignore\n",
      "                 ^^^^^^^^^^^^^^^^^^^^^^^^^^^^^^^^^^^^^^^^^^^^^^^\n",
      "  File \"/Users/mac/Documents/Dev/Python/agentic-loan-officer/.venv/lib/python3.12/site-packages/anyio/to_thread.py\", line 56, in run_sync\n",
      "    return await get_async_backend().run_sync_in_worker_thread(\n",
      "           ^^^^^^^^^^^^^^^^^^^^^^^^^^^^^^^^^^^^^^^^^^^^^^^^^^^^\n",
      "  File \"/Users/mac/Documents/Dev/Python/agentic-loan-officer/.venv/lib/python3.12/site-packages/anyio/_backends/_asyncio.py\", line 2470, in run_sync_in_worker_thread\n",
      "    return await future\n",
      "           ^^^^^^^^^^^^\n",
      "  File \"/Users/mac/Documents/Dev/Python/agentic-loan-officer/.venv/lib/python3.12/site-packages/anyio/_backends/_asyncio.py\", line 967, in run\n",
      "    result = context.run(func, *args)\n",
      "             ^^^^^^^^^^^^^^^^^^^^^^^^\n",
      "  File \"/Users/mac/Documents/Dev/Python/agentic-loan-officer/.venv/lib/python3.12/site-packages/gradio/utils.py\", line 884, in wrapper\n",
      "    response = f(*args, **kwargs)\n",
      "               ^^^^^^^^^^^^^^^^^^\n",
      "  File \"/var/folders/5t/v0zfcvkd3zdckpwz0d5vfk200000gn/T/ipykernel_34133/227214513.py\", line 45, in chat\n",
      "    response = coordinator.run(message)\n",
      "               ^^^^^^^^^^^^^^^\n",
      "AttributeError: 'Agent' object has no attribute 'run'\n"
     ]
    }
   ],
   "source": [
    "from agents import Agent, Runner, trace, function_tool\n",
    "from pydantic import BaseModel, Field, validator, field_validator\n",
    "from typing import Optional\n",
    "import gradio as gr\n",
    "\n",
    "# Define Pydantic model for loan application data\n",
    "class LoanApplication(BaseModel):\n",
    "    age: int = Field(..., description=\"Age of the applicant\", gt=18, lt=100)\n",
    "    gender: str = Field(..., description=\"Gender of the applicant\", pattern=\"^(male|female|other)$\")\n",
    "    marital_status: str = Field(..., description=\"Marital status of the applicant\", pattern=\"^(single|married|divorced|widowed)$\")\n",
    "    location: str = Field(..., description=\"City where the applicant lives\", min_length=2, max_length=50)\n",
    "    amount: float = Field(..., description=\"Loan amount requested\", gt=0)\n",
    "    tenure: int = Field(..., description=\"Loan tenure in months\", gt=0, le=120)\n",
    "    purpose: Optional[str] = Field(None, description=\"Purpose of the loan\")\n",
    "\n",
    "    @field_validator('amount')\n",
    "    def validate_amount(cls, v):\n",
    "        if v > 1000000:  # Example limit\n",
    "            raise ValueError('Loan amount cannot exceed 1,000,000')\n",
    "        return v\n",
    "\n",
    "# Create the Coordinator agent\n",
    "coordinator = Agent(\n",
    "    name=\"LoanApplicationCoordinator\",\n",
    "    model=\"gpt-4-mini\",  # Using the specified model\n",
    "    instructions=\"\"\"You are a helpful loan application coordinator. Your task is to:\n",
    "1. Greet the customer and identify if they want to apply for a loan\n",
    "2. Collect all required information for a loan application:\n",
    "   - Age (must be 18+)\n",
    "   - Gender (male/female/other)\n",
    "   - Marital status (single/married/divorced/widowed)\n",
    "   - Location (city)\n",
    "   - Desired loan amount\n",
    "   - Loan tenure (in months, max 120)\n",
    "   - Optional: Loan purpose\n",
    "3. Validate each piece of information as you collect it\n",
    "4. Be polite, professional, and guide the user through the process\n",
    "5. Once all information is collected, confirm it with the user before proceeding\"\"\",\n",
    "    tools=[],\n",
    ")\n",
    "\n",
    "# Gradio chat interface\n",
    "def chat(message, history):\n",
    "    history = history or []\n",
    "    response = coordinator.run(message)\n",
    "    history.append((message, response))\n",
    "    return history, history\n",
    "\n",
    "with gr.Blocks() as demo:\n",
    "    gr.Markdown(\"# Loan Application Coordinator\")\n",
    "    chatbot = gr.Chatbot()\n",
    "    msg = gr.Textbox(label=\"Your message\")\n",
    "    clear = gr.Button(\"Clear\")\n",
    "    \n",
    "    msg.submit(chat, [msg, chatbot], [msg, chatbot])\n",
    "    clear.click(lambda: None, None, chatbot, queue=False)\n",
    "\n",
    "if __name__ == \"__main__\":\n",
    "    demo.launch()"
   ]
  },
  {
   "cell_type": "code",
   "execution_count": 17,
   "metadata": {},
   "outputs": [
    {
     "ename": "TypeError",
     "evalue": "Runner() takes no arguments",
     "output_type": "error",
     "traceback": [
      "\u001b[31m---------------------------------------------------------------------------\u001b[39m",
      "\u001b[31mTypeError\u001b[39m                                 Traceback (most recent call last)",
      "\u001b[36mCell\u001b[39m\u001b[36m \u001b[39m\u001b[32mIn[17]\u001b[39m\u001b[32m, line 61\u001b[39m\n\u001b[32m     55\u001b[39m             \u001b[38;5;28;01mreturn\u001b[39;00m {\n\u001b[32m     56\u001b[39m                 \u001b[33m\"\u001b[39m\u001b[33mstatus\u001b[39m\u001b[33m\"\u001b[39m: \u001b[33m\"\u001b[39m\u001b[33merror\u001b[39m\u001b[33m\"\u001b[39m,\n\u001b[32m     57\u001b[39m                 \u001b[33m\"\u001b[39m\u001b[33mmessage\u001b[39m\u001b[33m\"\u001b[39m: \u001b[33mf\u001b[39m\u001b[33m\"\u001b[39m\u001b[33mValidation error: \u001b[39m\u001b[38;5;132;01m{\u001b[39;00me\u001b[38;5;132;01m}\u001b[39;00m\u001b[33m\"\u001b[39m\n\u001b[32m     58\u001b[39m             }\n\u001b[32m     60\u001b[39m agent = Coordinator()\n\u001b[32m---> \u001b[39m\u001b[32m61\u001b[39m runner = \u001b[43mRunner\u001b[49m\u001b[43m(\u001b[49m\u001b[43magent\u001b[49m\u001b[43m)\u001b[49m\n\u001b[32m     63\u001b[39m \u001b[38;5;28;01mdef\u001b[39;00m\u001b[38;5;250m \u001b[39m\u001b[34mchat_fn\u001b[39m(message, history):\n\u001b[32m     64\u001b[39m     response = runner.run(message)\n",
      "\u001b[31mTypeError\u001b[39m: Runner() takes no arguments"
     ]
    }
   ],
   "source": [
    "# # agent1_coordinator.py\n",
    "\n",
    "# from agents import Agent, function_tool, Runner, trace\n",
    "# from pydantic import BaseModel, Field, ValidationError, field_validator\n",
    "# import gradio as gr\n",
    "\n",
    "# REQUIRED_FIELDS = {\"age\", \"maritalStatus\", \"location\", \"amount\", \"tenure\", \"gender\"}\n",
    "\n",
    "# class LoanApplication(BaseModel):\n",
    "#     age: int = Field(..., ge=18, le=100)\n",
    "#     maritalStatus: str\n",
    "#     location: str\n",
    "#     amount: int = Field(..., gt=0)\n",
    "#     tenure: int = Field(..., gt=0)\n",
    "#     gender: str\n",
    "\n",
    "#     # @validator(\"location\")\n",
    "#     # def must_be_in_nigeria(cls, v):\n",
    "#     #     if v.lower() not in [\"lagos\", \"abuja\", \"kano\", \"kaduna\"]:  # extend as needed\n",
    "#     #         raise ValueError(\"Location must be a Nigerian state\")\n",
    "#     #     return v.lower()\n",
    "\n",
    "#     @field_validator(\"location\")\n",
    "#     @classmethod\n",
    "#     def must_be_in_nigeria(cls, v):\n",
    "#         valid_states = [\"lagos\", \"abuja\", \"kano\", \"kaduna\"]  # Extend as needed\n",
    "#         if v.lower() not in valid_states:\n",
    "#             raise ValueError(\"Location must be a valid Nigerian state\")\n",
    "#         return v.lower()\n",
    "\n",
    "# class Coordinator(Agent):\n",
    "#     def __init__(self):\n",
    "#         super().__init__(name=\"Agent 1 – Coordinator\")\n",
    "#         self.collected_data = {}\n",
    "\n",
    "#     @function_tool\n",
    "#     def collect_field(self, field: str, value: str):\n",
    "#         try:\n",
    "#             self.collected_data[field] = value\n",
    "#             # Attempt validation with current data\n",
    "#             if REQUIRED_FIELDS.issubset(self.collected_data):\n",
    "#                 validated = LoanApplication(**self.collected_data)\n",
    "#                 return {\n",
    "#                     \"status\": \"complete\",\n",
    "#                     \"message\": f\"All fields collected. Validated application:\\n{validated}\",\n",
    "#                     \"payload\": validated.dict()\n",
    "#                 }\n",
    "#             else:\n",
    "#                 missing = REQUIRED_FIELDS - self.collected_data.keys()\n",
    "#                 return {\n",
    "#                     \"status\": \"incomplete\",\n",
    "#                     \"message\": f\"Field '{field}' recorded. Still missing: {', '.join(missing)}.\"\n",
    "#                 }\n",
    "#         except ValidationError as e:\n",
    "#             return {\n",
    "#                 \"status\": \"error\",\n",
    "#                 \"message\": f\"Validation error: {e}\"\n",
    "#             }\n",
    "\n",
    "# agent = Coordinator()\n",
    "# runner = Runner(agent)\n",
    "\n",
    "# def chat_fn(message, history):\n",
    "#     response = runner.run(message)\n",
    "#     return response, history + [(message, response)]\n",
    "\n",
    "# chat_ui = gr.ChatInterface(chat_fn, title=\"Loan Application Assistant\")\n",
    "# chat_ui.launch()\n"
   ]
  },
  {
   "cell_type": "code",
   "execution_count": 4,
   "metadata": {},
   "outputs": [],
   "source": [
    "instructions1 = \"You are a sales agent working for ComplAI, \\\n",
    "a company that provides a SaaS tool for ensuring SOC2 compliance and preparing for audits, powered by AI. \\\n",
    "You write professional, serious cold emails.\"\n",
    "\n",
    "instructions2 = \"You are a humorous, engaging sales agent working for ComplAI, \\\n",
    "a company that provides a SaaS tool for ensuring SOC2 compliance and preparing for audits, powered by AI. \\\n",
    "You write witty, engaging cold emails that are likely to get a response.\"\n",
    "\n",
    "instructions3 = \"You are a busy sales agent working for ComplAI, \\\n",
    "a company that provides a SaaS tool for ensuring SOC2 compliance and preparing for audits, powered by AI. \\\n",
    "You write concise, to the point cold emails.\""
   ]
  },
  {
   "cell_type": "markdown",
   "metadata": {},
   "source": [
    "### It's easy to use any models with OpenAI compatible endpoints"
   ]
  },
  {
   "cell_type": "code",
   "execution_count": 5,
   "metadata": {},
   "outputs": [],
   "source": [
    "GEMINI_BASE_URL = \"https://generativelanguage.googleapis.com/v1beta/openai/\"\n",
    "DEEPSEEK_BASE_URL = \"https://api.deepseek.com/v1\"\n",
    "GROQ_BASE_URL = \"https://api.groq.com/openai/v1\""
   ]
  },
  {
   "cell_type": "code",
   "execution_count": 6,
   "metadata": {},
   "outputs": [],
   "source": [
    "\n",
    "deepseek_client = AsyncOpenAI(base_url=DEEPSEEK_BASE_URL, api_key=deepseek_api_key)\n",
    "gemini_client = AsyncOpenAI(base_url=GEMINI_BASE_URL, api_key=google_api_key)\n",
    "groq_client = AsyncOpenAI(base_url=GROQ_BASE_URL, api_key=groq_api_key)\n",
    "\n",
    "deepseek_model = OpenAIChatCompletionsModel(model=\"deepseek-chat\", openai_client=deepseek_client)\n",
    "gemini_model = OpenAIChatCompletionsModel(model=\"gemini-2.0-flash\", openai_client=gemini_client)\n",
    "llama3_3_model = OpenAIChatCompletionsModel(model=\"llama-3.3-70b-versatile\", openai_client=groq_client)"
   ]
  },
  {
   "cell_type": "code",
   "execution_count": 7,
   "metadata": {},
   "outputs": [],
   "source": [
    "sales_agent1 = Agent(name=\"DeepSeek Sales Agent\", instructions=instructions1, model=deepseek_model)\n",
    "sales_agent2 =  Agent(name=\"Gemini Sales Agent\", instructions=instructions2, model=gemini_model)\n",
    "sales_agent3  = Agent(name=\"Llama3.3 Sales Agent\",instructions=instructions3,model=llama3_3_model)"
   ]
  },
  {
   "cell_type": "code",
   "execution_count": 8,
   "metadata": {},
   "outputs": [],
   "source": [
    "description = \"Write a cold sales email\"\n",
    "\n",
    "tool1 = sales_agent1.as_tool(tool_name=\"sales_agent1\", tool_description=description)\n",
    "tool2 = sales_agent2.as_tool(tool_name=\"sales_agent2\", tool_description=description)\n",
    "tool3 = sales_agent3.as_tool(tool_name=\"sales_agent3\", tool_description=description)"
   ]
  },
  {
   "cell_type": "code",
   "execution_count": 9,
   "metadata": {},
   "outputs": [],
   "source": [
    "@function_tool\n",
    "def send_html_email(subject: str, html_body: str) -> Dict[str, str]:\n",
    "    \"\"\" Send out an email with the given subject and HTML body to all sales prospects \"\"\"\n",
    "    sg = sendgrid.SendGridAPIClient(api_key=os.environ.get('SENDGRID_API_KEY'))\n",
    "    from_email = Email(\"ed@edwarddonner.com\")  # Change to your verified sender\n",
    "    to_email = To(\"ed.donner@gmail.com\")  # Change to your recipient\n",
    "    content = Content(\"text/html\", html_body)\n",
    "    mail = Mail(from_email, to_email, subject, content).get()\n",
    "    response = sg.client.mail.send.post(request_body=mail)\n",
    "    return {\"status\": \"success\"}"
   ]
  },
  {
   "cell_type": "code",
   "execution_count": 10,
   "metadata": {},
   "outputs": [],
   "source": [
    "subject_instructions = \"You can write a subject for a cold sales email. \\\n",
    "You are given a message and you need to write a subject for an email that is likely to get a response.\"\n",
    "\n",
    "html_instructions = \"You can convert a text email body to an HTML email body. \\\n",
    "You are given a text email body which might have some markdown \\\n",
    "and you need to convert it to an HTML email body with simple, clear, compelling layout and design.\"\n",
    "\n",
    "subject_writer = Agent(name=\"Email subject writer\", instructions=subject_instructions, model=\"gpt-4o-mini\")\n",
    "subject_tool = subject_writer.as_tool(tool_name=\"subject_writer\", tool_description=\"Write a subject for a cold sales email\")\n",
    "\n",
    "html_converter = Agent(name=\"HTML email body converter\", instructions=html_instructions, model=\"gpt-4o-mini\")\n",
    "html_tool = html_converter.as_tool(tool_name=\"html_converter\",tool_description=\"Convert a text email body to an HTML email body\")"
   ]
  },
  {
   "cell_type": "code",
   "execution_count": 11,
   "metadata": {},
   "outputs": [],
   "source": [
    "email_tools = [subject_tool, html_tool, send_html_email]"
   ]
  },
  {
   "cell_type": "code",
   "execution_count": 12,
   "metadata": {},
   "outputs": [],
   "source": [
    "instructions =\"You are an email formatter and sender. You receive the body of an email to be sent. \\\n",
    "You first use the subject_writer tool to write a subject for the email, then use the html_converter tool to convert the body to HTML. \\\n",
    "Finally, you use the send_html_email tool to send the email with the subject and HTML body.\"\n",
    "\n",
    "\n",
    "emailer_agent = Agent(\n",
    "    name=\"Email Manager\",\n",
    "    instructions=instructions,\n",
    "    tools=email_tools,\n",
    "    model=\"gpt-4o-mini\",\n",
    "    handoff_description=\"Convert an email to HTML and send it\")"
   ]
  },
  {
   "cell_type": "code",
   "execution_count": 13,
   "metadata": {},
   "outputs": [],
   "source": [
    "tools = [tool1, tool2, tool3]\n",
    "handoffs = [emailer_agent]"
   ]
  },
  {
   "cell_type": "code",
   "execution_count": 14,
   "metadata": {},
   "outputs": [],
   "source": [
    "sales_manager_instructions = \"You are a sales manager working for ComplAI. You use the tools given to you to generate cold sales emails. \\\n",
    "You never generate sales emails yourself; you always use the tools. \\\n",
    "You try all 3 sales agent tools at least once before choosing the best one. \\\n",
    "You can use the tools multiple times if you're not satisfied with the results from the first try. \\\n",
    "You select the single best email using your own judgement of which email will be most effective. \\\n",
    "After picking the email, you handoff to the Email Manager agent to format and send the email.\"\n",
    "\n",
    "\n",
    "sales_manager = Agent(\n",
    "    name=\"Sales Manager\",\n",
    "    instructions=sales_manager_instructions,\n",
    "    tools=tools,\n",
    "    handoffs=handoffs,\n",
    "    model=\"gpt-4o-mini\")\n",
    "\n",
    "message = \"Send out a cold sales email addressed to Dear CEO from Alice\"\n",
    "\n",
    "with trace(\"Automated SDR\"):\n",
    "    result = await Runner.run(sales_manager, message)"
   ]
  },
  {
   "cell_type": "markdown",
   "metadata": {},
   "source": [
    "## Check out the trace:\n",
    "\n",
    "https://platform.openai.com/traces"
   ]
  },
  {
   "cell_type": "code",
   "execution_count": 15,
   "metadata": {},
   "outputs": [],
   "source": [
    "class NameCheckOutput(BaseModel):\n",
    "    is_name_in_message: bool\n",
    "    name: str\n",
    "\n",
    "guardrail_agent = Agent( \n",
    "    name=\"Name check\",\n",
    "    instructions=\"Check if the user is including someone's personal name in what they want you to do.\",\n",
    "    output_type=NameCheckOutput,\n",
    "    model=\"gpt-4o-mini\"\n",
    ")"
   ]
  },
  {
   "cell_type": "code",
   "execution_count": 16,
   "metadata": {},
   "outputs": [],
   "source": [
    "@input_guardrail\n",
    "async def guardrail_against_name(ctx, agent, message):\n",
    "    result = await Runner.run(guardrail_agent, message, context=ctx.context)\n",
    "    is_name_in_message = result.final_output.is_name_in_message\n",
    "    return GuardrailFunctionOutput(output_info={\"found_name\": result.final_output},tripwire_triggered=is_name_in_message)"
   ]
  },
  {
   "cell_type": "code",
   "execution_count": null,
   "metadata": {},
   "outputs": [],
   "source": [
    "careful_sales_manager = Agent(\n",
    "    name=\"Sales Manager\",\n",
    "    instructions=sales_manager_instructions,\n",
    "    tools=tools,\n",
    "    handoffs=[emailer_agent],\n",
    "    model=\"gpt-4o-mini\",\n",
    "    input_guardrails=[guardrail_against_name]\n",
    "    )\n",
    "\n",
    "message = \"Send out a cold sales email addressed to Dear CEO from Alice\"\n",
    "\n",
    "with trace(\"Protected Automated SDR\"):\n",
    "    result = await Runner.run(careful_sales_manager, message)"
   ]
  },
  {
   "cell_type": "markdown",
   "metadata": {},
   "source": [
    "## Check out the trace:\n",
    "\n",
    "https://platform.openai.com/traces"
   ]
  },
  {
   "cell_type": "code",
   "execution_count": 20,
   "metadata": {},
   "outputs": [],
   "source": [
    "\n",
    "message = \"Send out a cold sales email addressed to Dear CEO from Head of Business Development\"\n",
    "\n",
    "with trace(\"Protected Automated SDR\"):\n",
    "    result = await Runner.run(careful_sales_manager, message)"
   ]
  },
  {
   "cell_type": "markdown",
   "metadata": {},
   "source": [
    "<table style=\"margin: 0; text-align: left; width:100%\">\n",
    "    <tr>\n",
    "        <td style=\"width: 150px; height: 150px; vertical-align: middle;\">\n",
    "            <img src=\"../assets/exercise.png\" width=\"150\" height=\"150\" style=\"display: block;\" />\n",
    "        </td>\n",
    "        <td>\n",
    "            <h2 style=\"color:#ff7800;\">Exercise</h2>\n",
    "            <span style=\"color:#ff7800;\">• Try different models<br/>• Add more input and output guardrails<br/>• Use structured outputs for the email generation\n",
    "            </span>\n",
    "        </td>\n",
    "    </tr>\n",
    "</table>"
   ]
  },
  {
   "cell_type": "markdown",
   "metadata": {},
   "source": []
  }
 ],
 "metadata": {
  "kernelspec": {
   "display_name": ".venv",
   "language": "python",
   "name": "python3"
  },
  "language_info": {
   "codemirror_mode": {
    "name": "ipython",
    "version": 3
   },
   "file_extension": ".py",
   "mimetype": "text/x-python",
   "name": "python",
   "nbconvert_exporter": "python",
   "pygments_lexer": "ipython3",
   "version": "3.12.9"
  }
 },
 "nbformat": 4,
 "nbformat_minor": 2
}
