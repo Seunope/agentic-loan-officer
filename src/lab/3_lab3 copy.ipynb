{
 "cells": [
  {
   "cell_type": "markdown",
   "metadata": {},
   "source": [
    "## Week 2 Day 3\n",
    "\n",
    "Now we get to more detail:\n",
    "\n",
    "1. Different models\n",
    "\n",
    "2. Structured Outputs\n",
    "\n",
    "3. Guardrails"
   ]
  },
  {
   "cell_type": "code",
   "execution_count": 1,
   "metadata": {},
   "outputs": [],
   "source": [
    "from dotenv import load_dotenv\n",
    "from openai import AsyncOpenAI\n",
    "from agents import Agent, Runner, trace, function_tool, OpenAIChatCompletionsModel, input_guardrail, GuardrailFunctionOutput\n",
    "from typing import Dict\n",
    "import sendgrid\n",
    "import os\n",
    "from sendgrid.helpers.mail import Mail, Email, To, Content\n",
    "from pydantic import BaseModel"
   ]
  },
  {
   "cell_type": "code",
   "execution_count": 2,
   "metadata": {},
   "outputs": [
    {
     "data": {
      "text/plain": [
       "True"
      ]
     },
     "execution_count": 2,
     "metadata": {},
     "output_type": "execute_result"
    }
   ],
   "source": [
    "load_dotenv(override=True)"
   ]
  },
  {
   "cell_type": "code",
   "execution_count": 3,
   "metadata": {},
   "outputs": [
    {
     "name": "stdout",
     "output_type": "stream",
     "text": [
      "OpenAI API Key exists and begins sk-proj-\n",
      "Google API Key exists and begins AI\n",
      "Groq API Key exists and begins gsk_\n"
     ]
    }
   ],
   "source": [
    "openai_api_key = os.getenv('OPENAI_API_KEY')\n",
    "fine_tune_openai = os.getenv('FINE_TUNED_MODEL')\n",
    "google_api_key = os.getenv('GOOGLE_API_KEY')\n",
    "\n",
    "groq_api_key = os.getenv('GROQ_API_KEY')\n",
    "\n",
    "if openai_api_key:\n",
    "    print(f\"OpenAI API Key exists and begins {openai_api_key[:8]}\")\n",
    "else:\n",
    "    print(\"OpenAI API Key not set\")\n",
    "\n",
    "if google_api_key:\n",
    "    print(f\"Google API Key exists and begins {google_api_key[:2]}\")\n",
    "else:\n",
    "    print(\"Google API Key not set (and this is optional)\")\n",
    "\n",
    "\n",
    "if groq_api_key:\n",
    "    print(f\"Groq API Key exists and begins {groq_api_key[:4]}\")\n",
    "else:\n",
    "    print(\"Groq API Key not set (and this is optional)\")"
   ]
  },
  {
   "cell_type": "code",
   "execution_count": 4,
   "metadata": {},
   "outputs": [],
   "source": [
    "# Agent 1 is the coordinator and interact with customer, Agent 2 is a tool can compute the repayment probability score and recommendations, \n",
    "# Agent 3 give more detail analysis of result from agent 2 \n",
    "# Agent 4 is send email to customer with loan offer\n",
    "# \n",
    "# \n",
    "#  Agent1: Manage conversation with customer and look for key words to determine if the customer is interested in a loan. \n",
    "# If customer is interested send input data structure customer age, marital status, location(eg Lagos, abuja, oyo,etc), amount, and tenure. etc.\n",
    "#  Validate if use has enter all these values if yes call agent 2:\n",
    "#  Agent  3 handoff to agent 1, it ask user to confirm loan offer and if yes handoff to agent 4\n",
    "\n",
    "#Agent 2: Uses my finetune OpenAi model to compute the repayment probability score and recommendations\n",
    "\n",
    "#Agent 3: Elaborate on the recommendations and ask for the final go ahead for the loan handoff to agent 1\n",
    "\n",
    "#Agent 4: Send the final loan offer to the customer buy using tools to send email"
   ]
  },
  {
   "cell_type": "code",
   "execution_count": 5,
   "metadata": {},
   "outputs": [],
   "source": [
    "# Define instructions for the coordinator agent\n",
    "instructions1 = \"\"\"\n",
    "You are a Nigeria loan application coordinator officer. Your job is to collect and validate information from users who want to apply for a loan.\n",
    "\n",
    "Follow these steps:\n",
    "1. Collect all required information for the loan application:\n",
    "   - Age (must be between 19-99)\n",
    "   - Gender (must be male, female, or other)\n",
    "   - Marital status (must be single, married, divorced, or widowed)\n",
    "   - Location (state where the applicant lives in Nigeria)\n",
    "   - Loan amount (must be greater than 0 and not exceed 1,000,000)\n",
    "   - Loan tenure in days (must be greater than 6 and not exceed 180 days)\n",
    "\n",
    "2. Keep track of what information has been provided and what's still missing.\n",
    "\n",
    "3. When a user provides a value, validate it according to the requirements and ask for corrections if needed.\n",
    "\n",
    "4. After collecting all required information, summarize the complete application and ask the user to confirm before proceeding.\n",
    "\n",
    "5. If the user wants to modify any information, allow them to do so before final confirmation.\n",
    "\n",
    "Always be friendly, professional, and helpful throughout the process.\n",
    "\"\"\"\n",
    "\n",
    "# Define instructions for the processing agent (agent two)\n",
    "instructions2 = \"\"\"\n",
    "You are a loan application processor. Your job is to review completed loan applications and make decisions.\n",
    "\n",
    "You will receive a complete loan application with all required fields. Review the application carefully and provide an initial assessment.\n",
    "\n",
    "Consider factors such as:\n",
    "- Appropriate loan amount based on standard lending practices\n",
    "- Suitable tenure period\n",
    "- Any potential risk factors\n",
    "\n",
    "Provide a professional response indicating whether the application looks promising or might need adjustments.\n",
    "\"\"\"\n",
    "\n",
    "\n",
    "\n"
   ]
  },
  {
   "cell_type": "markdown",
   "metadata": {},
   "source": [
    "### It's easy to use any models with OpenAI compatible endpoints"
   ]
  },
  {
   "cell_type": "code",
   "execution_count": 6,
   "metadata": {},
   "outputs": [
    {
     "name": "stderr",
     "output_type": "stream",
     "text": [
      "/var/folders/5t/v0zfcvkd3zdckpwz0d5vfk200000gn/T/ipykernel_95112/1270579563.py:174: UserWarning: You have not specified a value for the `type` parameter. Defaulting to the 'tuples' format for chatbot messages, but this is deprecated and will be removed in a future version of Gradio. Please set type='messages' instead, which uses openai-style dictionaries with 'role' and 'content' keys.\n",
      "  chatbot = gr.Chatbot(height=500)\n"
     ]
    },
    {
     "name": "stdout",
     "output_type": "stream",
     "text": [
      "* Running on local URL:  http://127.0.0.1:7860\n",
      "* To create a public link, set `share=True` in `launch()`.\n"
     ]
    },
    {
     "data": {
      "text/html": [
       "<div><iframe src=\"http://127.0.0.1:7860/\" width=\"100%\" height=\"500\" allow=\"autoplay; camera; microphone; clipboard-read; clipboard-write;\" frameborder=\"0\" allowfullscreen></iframe></div>"
      ],
      "text/plain": [
       "<IPython.core.display.HTML object>"
      ]
     },
     "metadata": {},
     "output_type": "display_data"
    }
   ],
   "source": [
    "import sys\n",
    "import os\n",
    "\n",
    "sys.path.append(os.path.abspath(\"..\")) \n",
    "\n",
    "from agents import Agent, Runner, trace, function_tool\n",
    "from lab.utils.NLExtractor import ApplicationExtractor\n",
    "from lab.utils.ValidationModels import LoanApplicationValidator\n",
    "from pydantic import BaseModel, Field, ValidationError, field_validator\n",
    "from typing import Optional, Dict, Any\n",
    "import gradio as gr\n",
    "import json\n",
    "\n",
    "\n",
    "# Create the Coordinator agent\n",
    "coordinator_agent1 = Agent(\n",
    "    name=\"Loan Application Coordinator\",\n",
    "    model=\"gpt-4o-mini\",  \n",
    "    instructions=instructions1,\n",
    "    tools=[],\n",
    ")\n",
    "\n",
    "\n",
    "\n",
    "# Create the Processing agent\n",
    "# repayment_predictor_agent = Agent(\n",
    "#     name=\"Repayment Probability Agent\",\n",
    "#     model=fine_tune_openai,\n",
    "#     instructions=instructions2,\n",
    "#     tools=[]\n",
    "# )\n",
    "\n",
    "# Create the Processing agent\n",
    "processor_agent = Agent(\n",
    "    name=\"Loan Application Processor\",\n",
    "    model=\"gpt-4o-mini\",\n",
    "    instructions=instructions2,\n",
    "    tools=[]\n",
    ")\n",
    "\n",
    "# Function to store application data in session state\n",
    "def initialize_session_state():\n",
    "    return {\n",
    "        \"application_data\": {},\n",
    "        \"fields_collected\": set(),\n",
    "        \"required_fields\": {\"age\", \"gender\", \"marital_status\", \"location\", \"amount\", \"tenure\"},\n",
    "        \"confirmation_stage\": False,\n",
    "        \"extractor\": ApplicationExtractor()\n",
    "    }\n",
    "\n",
    "# Format the collected application data for display\n",
    "def format_application_data(app_data, fields_collected, required_fields):\n",
    "    summary = \"### Application Progress\\n\\n\"\n",
    "    \n",
    "    # Add collected fields\n",
    "    if fields_collected:\n",
    "        summary += \"**Collected Information:**\\n\"\n",
    "        for field in fields_collected:\n",
    "            if field in app_data:\n",
    "                summary += f\"- {field.replace('_', ' ').title()}: {app_data[field]}\\n\"\n",
    "        summary += \"\\n\"\n",
    "    \n",
    "    # Add missing fields\n",
    "    missing = required_fields - fields_collected\n",
    "    if missing:\n",
    "        summary += \"**Information Still Needed:**\\n\"\n",
    "        for field in missing:\n",
    "            summary += f\"- {field.replace('_', ' ').title()}\\n\"\n",
    "    \n",
    "    return summary\n",
    "\n",
    "\n",
    "# Update the chat function to use the improved extractor\n",
    "async def chat(message, history, session_state):\n",
    "    if session_state is None:\n",
    "        session_state = initialize_session_state()\n",
    "        # Initialize the extractor if it doesn't exist\n",
    "        session_state[\"extractor\"] = ApplicationExtractor()\n",
    "    \n",
    "    history = history or []\n",
    "    \n",
    "    # If we're in confirmation stage and user confirms, process with agent two\n",
    "    if session_state[\"confirmation_stage\"] and any(confirm in message.lower() for confirm in [\"confirm\", \"yes\", \"correct\", \"submit\", \"proceed\"]):\n",
    "        try:\n",
    "             validated = LoanApplicationValidator(**session_state[\"application_data\"])\n",
    "        except ValidationError as e:\n",
    "            return \"\", history + [(message, f\"Validation Error:\\n{str(e)}\")], session_state\n",
    "            \n",
    "        # Call the second agent with the complete application data\n",
    "        with trace(\"Loan processor\"):\n",
    "            app_data_str = json.dumps(session_state[\"application_data\"])\n",
    "            run_result = await Runner.run(\n",
    "                processor_agent, \n",
    "                f\"Please review this loan application: {app_data_str}\"\n",
    "            )\n",
    "            processor_response = run_result.final_output\n",
    "        \n",
    "        # Reset the session state for a new application\n",
    "        session_state = initialize_session_state()\n",
    "        session_state[\"extractor\"] = ApplicationExtractor()\n",
    "        \n",
    "        # Add the processor's response to the history\n",
    "        history.append((message, processor_response))\n",
    "        return \"\", history, session_state\n",
    "    \n",
    "    # If in confirmation stage but user wants to modify, exit confirmation stage\n",
    "    elif session_state[\"confirmation_stage\"] and any(modify in message.lower() for modify in [\"modify\", \"change\", \"edit\", \"no\", \"incorrect\"]):\n",
    "        session_state[\"confirmation_stage\"] = False\n",
    "        response = \"What information would you like to modify?\"\n",
    "        history.append((message, response))\n",
    "        return \"\", history, session_state\n",
    "    \n",
    "    # Extract information using the NLP extractor\n",
    "    missing_fields = session_state[\"required_fields\"] - session_state[\"fields_collected\"]\n",
    "    extracted_data = session_state[\"extractor\"].extract_all_fields(\n",
    "        message, \n",
    "        missing_fields,\n",
    "        session_state[\"application_data\"]\n",
    "    )\n",
    "    \n",
    "    # Update session state with extracted information\n",
    "    for field, (value, confidence) in extracted_data.items():\n",
    "        session_state[\"application_data\"][field] = value\n",
    "        session_state[\"fields_collected\"].add(field)\n",
    "    \n",
    "    # Normal flow - collect information or process with agent one\n",
    "    with trace(\"Loan manager\"):\n",
    "        # Append the current application state to the message\n",
    "        app_summary = format_application_data(\n",
    "            session_state[\"application_data\"], \n",
    "            session_state[\"fields_collected\"], \n",
    "            session_state[\"required_fields\"]\n",
    "        )\n",
    "        \n",
    "        # Add information about newly extracted fields to help the agent frame its response\n",
    "        if extracted_data:\n",
    "            newly_extracted = \"\\n\\n[SYSTEM INFO: Newly extracted fields]\\n\"\n",
    "            for field, (value, confidence) in extracted_data.items():\n",
    "                newly_extracted += f\"- {field}: {value} (confidence: {confidence:.2f})\\n\"\n",
    "            enhanced_message = f\"{message}\\n\\n[SYSTEM INFO: Current application state]\\n{app_summary}{newly_extracted}\"\n",
    "        else:\n",
    "            enhanced_message = f\"{message}\\n\\n[SYSTEM INFO: Current application state]\\n{app_summary}\"\n",
    "        \n",
    "        run_result = await Runner.run(coordinator_agent1, enhanced_message)\n",
    "        print('run_result', run_result)\n",
    "        agent_response = run_result.final_output\n",
    "        \n",
    "        # Check if all required fields are collected\n",
    "        if session_state[\"fields_collected\"] == session_state[\"required_fields\"] and not session_state[\"confirmation_stage\"]:\n",
    "            # Enter confirmation stage\n",
    "            session_state[\"confirmation_stage\"] = True\n",
    "            \n",
    "            # Prepare confirmation message\n",
    "            confirmation = \"### Complete Application Summary\\n\\n\"\n",
    "            for field, value in session_state[\"application_data\"].items():\n",
    "                confirmation += f\"- **{field.replace('_', ' ').title()}**: {value}\\n\"\n",
    "            confirmation += \"\\nIs this information correct? Please confirm to proceed or say 'modify' to make changes.\"\n",
    "            \n",
    "            # Append to response\n",
    "            agent_response += f\"\\n\\n{confirmation}\"\n",
    "    \n",
    "    history.append((message, agent_response))\n",
    "    return \"\", history, session_state\n",
    "\n",
    "\n",
    "\n",
    "with gr.Blocks() as demo:\n",
    "    session_state = gr.State(initialize_session_state())\n",
    "    \n",
    "    gr.Markdown(\"# Loan Application System\")\n",
    "    \n",
    "    with gr.Row():\n",
    "        with gr.Column(scale=3):\n",
    "            chatbot = gr.Chatbot(height=500)\n",
    "            \n",
    "            with gr.Row():\n",
    "                msg = gr.Textbox(\n",
    "                    label=\"Your message\", \n",
    "                    show_label=False,\n",
    "                    placeholder=\"Type your message here...\",\n",
    "                    container=False\n",
    "                )\n",
    "                submit_btn = gr.Button(\"Submit\")\n",
    "    \n",
    "        with gr.Column(scale=1):\n",
    "            app_status = gr.Markdown(\"### Application Status\\nStart by providing your information\")\n",
    "    \n",
    "    with gr.Row():\n",
    "        clear_btn = gr.Button(\"Start New Application\")\n",
    "    \n",
    "    # Update application status display when session state changes\n",
    "    def update_status(session_state):\n",
    "        if session_state is None:\n",
    "            return \"### Application Status\\nStart by providing your information\"\n",
    "        \n",
    "        return format_application_data(\n",
    "            session_state[\"application_data\"],\n",
    "            session_state[\"fields_collected\"],\n",
    "            session_state[\"required_fields\"]\n",
    "        )\n",
    "    \n",
    "    # Handle interactions\n",
    "    submit_btn.click(chat, [msg, chatbot, session_state], [msg, chatbot, session_state])\n",
    "    msg.submit(chat, [msg, chatbot, session_state], [msg, chatbot, session_state])\n",
    "    \n",
    "    # Update application status whenever session state changes\n",
    "    session_state.change(update_status, session_state, app_status)\n",
    "    \n",
    "    # Clear chat and reset session\n",
    "    clear_btn.click(\n",
    "        lambda: (None, initialize_session_state()), \n",
    "        None, \n",
    "        [chatbot, session_state],\n",
    "        queue=False\n",
    "    )\n",
    "\n",
    "if __name__ == \"__main__\":\n",
    "    demo.launch()"
   ]
  },
  {
   "cell_type": "code",
   "execution_count": 7,
   "metadata": {},
   "outputs": [],
   "source": [
    "GEMINI_BASE_URL = \"https://generativelanguage.googleapis.com/v1beta/openai/\"\n",
    "DEEPSEEK_BASE_URL = \"https://api.deepseek.com/v1\"\n",
    "GROQ_BASE_URL = \"https://api.groq.com/openai/v1\""
   ]
  },
  {
   "cell_type": "code",
   "execution_count": 8,
   "metadata": {},
   "outputs": [
    {
     "ename": "NameError",
     "evalue": "name 'deepseek_api_key' is not defined",
     "output_type": "error",
     "traceback": [
      "\u001b[31m---------------------------------------------------------------------------\u001b[39m",
      "\u001b[31mNameError\u001b[39m                                 Traceback (most recent call last)",
      "\u001b[36mCell\u001b[39m\u001b[36m \u001b[39m\u001b[32mIn[8]\u001b[39m\u001b[32m, line 1\u001b[39m\n\u001b[32m----> \u001b[39m\u001b[32m1\u001b[39m deepseek_client = AsyncOpenAI(base_url=DEEPSEEK_BASE_URL, api_key=\u001b[43mdeepseek_api_key\u001b[49m)\n\u001b[32m      2\u001b[39m gemini_client = AsyncOpenAI(base_url=GEMINI_BASE_URL, api_key=google_api_key)\n\u001b[32m      3\u001b[39m groq_client = AsyncOpenAI(base_url=GROQ_BASE_URL, api_key=groq_api_key)\n",
      "\u001b[31mNameError\u001b[39m: name 'deepseek_api_key' is not defined"
     ]
    }
   ],
   "source": [
    "\n",
    "deepseek_client = AsyncOpenAI(base_url=DEEPSEEK_BASE_URL, api_key=deepseek_api_key)\n",
    "gemini_client = AsyncOpenAI(base_url=GEMINI_BASE_URL, api_key=google_api_key)\n",
    "groq_client = AsyncOpenAI(base_url=GROQ_BASE_URL, api_key=groq_api_key)\n",
    "\n",
    "deepseek_model = OpenAIChatCompletionsModel(model=\"deepseek-chat\", openai_client=deepseek_client)\n",
    "gemini_model = OpenAIChatCompletionsModel(model=\"gemini-2.0-flash\", openai_client=gemini_client)\n",
    "llama3_3_model = OpenAIChatCompletionsModel(model=\"llama-3.3-70b-versatile\", openai_client=groq_client)"
   ]
  },
  {
   "cell_type": "code",
   "execution_count": 7,
   "metadata": {},
   "outputs": [],
   "source": [
    "sales_agent1 = Agent(name=\"DeepSeek Sales Agent\", instructions=instructions1, model=deepseek_model)\n",
    "sales_agent2 =  Agent(name=\"Gemini Sales Agent\", instructions=instructions2, model=gemini_model)\n",
    "sales_agent3  = Agent(name=\"Llama3.3 Sales Agent\",instructions=instructions3,model=llama3_3_model)"
   ]
  },
  {
   "cell_type": "code",
   "execution_count": 8,
   "metadata": {},
   "outputs": [],
   "source": [
    "description = \"Write a cold sales email\"\n",
    "\n",
    "tool1 = sales_agent1.as_tool(tool_name=\"sales_agent1\", tool_description=description)\n",
    "tool2 = sales_agent2.as_tool(tool_name=\"sales_agent2\", tool_description=description)\n",
    "tool3 = sales_agent3.as_tool(tool_name=\"sales_agent3\", tool_description=description)"
   ]
  },
  {
   "cell_type": "code",
   "execution_count": 9,
   "metadata": {},
   "outputs": [],
   "source": [
    "@function_tool\n",
    "def send_html_email(subject: str, html_body: str) -> Dict[str, str]:\n",
    "    \"\"\" Send out an email with the given subject and HTML body to all sales prospects \"\"\"\n",
    "    sg = sendgrid.SendGridAPIClient(api_key=os.environ.get('SENDGRID_API_KEY'))\n",
    "    from_email = Email(\"ed@edwarddonner.com\")  # Change to your verified sender\n",
    "    to_email = To(\"ed.donner@gmail.com\")  # Change to your recipient\n",
    "    content = Content(\"text/html\", html_body)\n",
    "    mail = Mail(from_email, to_email, subject, content).get()\n",
    "    response = sg.client.mail.send.post(request_body=mail)\n",
    "    return {\"status\": \"success\"}"
   ]
  },
  {
   "cell_type": "code",
   "execution_count": 10,
   "metadata": {},
   "outputs": [],
   "source": [
    "subject_instructions = \"You can write a subject for a cold sales email. \\\n",
    "You are given a message and you need to write a subject for an email that is likely to get a response.\"\n",
    "\n",
    "html_instructions = \"You can convert a text email body to an HTML email body. \\\n",
    "You are given a text email body which might have some markdown \\\n",
    "and you need to convert it to an HTML email body with simple, clear, compelling layout and design.\"\n",
    "\n",
    "subject_writer = Agent(name=\"Email subject writer\", instructions=subject_instructions, model=\"gpt-4o-mini\")\n",
    "subject_tool = subject_writer.as_tool(tool_name=\"subject_writer\", tool_description=\"Write a subject for a cold sales email\")\n",
    "\n",
    "html_converter = Agent(name=\"HTML email body converter\", instructions=html_instructions, model=\"gpt-4o-mini\")\n",
    "html_tool = html_converter.as_tool(tool_name=\"html_converter\",tool_description=\"Convert a text email body to an HTML email body\")"
   ]
  },
  {
   "cell_type": "code",
   "execution_count": 11,
   "metadata": {},
   "outputs": [],
   "source": [
    "email_tools = [subject_tool, html_tool, send_html_email]"
   ]
  },
  {
   "cell_type": "code",
   "execution_count": 12,
   "metadata": {},
   "outputs": [],
   "source": [
    "instructions =\"You are an email formatter and sender. You receive the body of an email to be sent. \\\n",
    "You first use the subject_writer tool to write a subject for the email, then use the html_converter tool to convert the body to HTML. \\\n",
    "Finally, you use the send_html_email tool to send the email with the subject and HTML body.\"\n",
    "\n",
    "\n",
    "emailer_agent = Agent(\n",
    "    name=\"Email Manager\",\n",
    "    instructions=instructions,\n",
    "    tools=email_tools,\n",
    "    model=\"gpt-4o-mini\",\n",
    "    handoff_description=\"Convert an email to HTML and send it\")"
   ]
  },
  {
   "cell_type": "code",
   "execution_count": 13,
   "metadata": {},
   "outputs": [],
   "source": [
    "tools = [tool1, tool2, tool3]\n",
    "handoffs = [emailer_agent]"
   ]
  },
  {
   "cell_type": "code",
   "execution_count": 14,
   "metadata": {},
   "outputs": [],
   "source": [
    "sales_manager_instructions = \"You are a sales manager working for ComplAI. You use the tools given to you to generate cold sales emails. \\\n",
    "You never generate sales emails yourself; you always use the tools. \\\n",
    "You try all 3 sales agent tools at least once before choosing the best one. \\\n",
    "You can use the tools multiple times if you're not satisfied with the results from the first try. \\\n",
    "You select the single best email using your own judgement of which email will be most effective. \\\n",
    "After picking the email, you handoff to the Email Manager agent to format and send the email.\"\n",
    "\n",
    "\n",
    "sales_manager = Agent(\n",
    "    name=\"Sales Manager\",\n",
    "    instructions=sales_manager_instructions,\n",
    "    tools=tools,\n",
    "    handoffs=handoffs,\n",
    "    model=\"gpt-4o-mini\")\n",
    "\n",
    "message = \"Send out a cold sales email addressed to Dear CEO from Alice\"\n",
    "\n",
    "with trace(\"Automated SDR\"):\n",
    "    result = await Runner.run(sales_manager, message)"
   ]
  },
  {
   "cell_type": "markdown",
   "metadata": {},
   "source": [
    "## Check out the trace:\n",
    "\n",
    "https://platform.openai.com/traces"
   ]
  },
  {
   "cell_type": "code",
   "execution_count": 15,
   "metadata": {},
   "outputs": [],
   "source": [
    "class NameCheckOutput(BaseModel):\n",
    "    is_name_in_message: bool\n",
    "    name: str\n",
    "\n",
    "guardrail_agent = Agent( \n",
    "    name=\"Name check\",\n",
    "    instructions=\"Check if the user is including someone's personal name in what they want you to do.\",\n",
    "    output_type=NameCheckOutput,\n",
    "    model=\"gpt-4o-mini\"\n",
    ")"
   ]
  },
  {
   "cell_type": "code",
   "execution_count": 16,
   "metadata": {},
   "outputs": [],
   "source": [
    "@input_guardrail\n",
    "async def guardrail_against_name(ctx, agent, message):\n",
    "    result = await Runner.run(guardrail_agent, message, context=ctx.context)\n",
    "    is_name_in_message = result.final_output.is_name_in_message\n",
    "    return GuardrailFunctionOutput(output_info={\"found_name\": result.final_output},tripwire_triggered=is_name_in_message)"
   ]
  },
  {
   "cell_type": "code",
   "execution_count": null,
   "metadata": {},
   "outputs": [],
   "source": [
    "careful_sales_manager = Agent(\n",
    "    name=\"Sales Manager\",\n",
    "    instructions=sales_manager_instructions,\n",
    "    tools=tools,\n",
    "    handoffs=[emailer_agent],\n",
    "    model=\"gpt-4o-mini\",\n",
    "    input_guardrails=[guardrail_against_name]\n",
    "    )\n",
    "\n",
    "message = \"Send out a cold sales email addressed to Dear CEO from Alice\"\n",
    "\n",
    "with trace(\"Protected Automated SDR\"):\n",
    "    result = await Runner.run(careful_sales_manager, message)"
   ]
  },
  {
   "cell_type": "markdown",
   "metadata": {},
   "source": [
    "## Check out the trace:\n",
    "\n",
    "https://platform.openai.com/traces"
   ]
  },
  {
   "cell_type": "code",
   "execution_count": 20,
   "metadata": {},
   "outputs": [],
   "source": [
    "\n",
    "message = \"Send out a cold sales email addressed to Dear CEO from Head of Business Development\"\n",
    "\n",
    "with trace(\"Protected Automated SDR\"):\n",
    "    result = await Runner.run(careful_sales_manager, message)"
   ]
  },
  {
   "cell_type": "markdown",
   "metadata": {},
   "source": [
    "<table style=\"margin: 0; text-align: left; width:100%\">\n",
    "    <tr>\n",
    "        <td style=\"width: 150px; height: 150px; vertical-align: middle;\">\n",
    "            <img src=\"../assets/exercise.png\" width=\"150\" height=\"150\" style=\"display: block;\" />\n",
    "        </td>\n",
    "        <td>\n",
    "            <h2 style=\"color:#ff7800;\">Exercise</h2>\n",
    "            <span style=\"color:#ff7800;\">• Try different models<br/>• Add more input and output guardrails<br/>• Use structured outputs for the email generation\n",
    "            </span>\n",
    "        </td>\n",
    "    </tr>\n",
    "</table>"
   ]
  },
  {
   "cell_type": "markdown",
   "metadata": {},
   "source": []
  }
 ],
 "metadata": {
  "kernelspec": {
   "display_name": ".venv",
   "language": "python",
   "name": "python3"
  },
  "language_info": {
   "codemirror_mode": {
    "name": "ipython",
    "version": 3
   },
   "file_extension": ".py",
   "mimetype": "text/x-python",
   "name": "python",
   "nbconvert_exporter": "python",
   "pygments_lexer": "ipython3",
   "version": "3.12.9"
  }
 },
 "nbformat": 4,
 "nbformat_minor": 2
}
